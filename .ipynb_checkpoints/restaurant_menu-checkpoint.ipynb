{
 "cells": [
  {
   "cell_type": "code",
   "execution_count": 3,
   "id": "46bca578-3ddb-4325-b13a-41e8b9d2dc7e",
   "metadata": {},
   "outputs": [
    {
     "name": "stdout",
     "output_type": "stream",
     "text": [
      "Hot Dog----------$30\n",
      "20\n"
     ]
    }
   ],
   "source": [
    "item1=\"Hot Dog\"\n",
    "price1=\"$30\"\n",
    "dash=20-len(item1)-len(price1)\n",
    "str_output=(item1+\"-\"*dash+price1)\n",
    "print(str_output)\n",
    "print(len(str_output))"
   ]
  }
 ],
 "metadata": {
  "kernelspec": {
   "display_name": "Python 3 (ipykernel)",
   "language": "python",
   "name": "python3"
  },
  "language_info": {
   "codemirror_mode": {
    "name": "ipython",
    "version": 3
   },
   "file_extension": ".py",
   "mimetype": "text/x-python",
   "name": "python",
   "nbconvert_exporter": "python",
   "pygments_lexer": "ipython3",
   "version": "3.13.5"
  }
 },
 "nbformat": 4,
 "nbformat_minor": 5
}
