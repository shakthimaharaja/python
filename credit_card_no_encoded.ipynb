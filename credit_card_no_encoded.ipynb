{
 "cells": [
  {
   "cell_type": "code",
   "execution_count": 11,
   "id": "d5b47122-2ec1-4ec7-bddf-1308bc57766d",
   "metadata": {},
   "outputs": [
    {
     "name": "stdin",
     "output_type": "stream",
     "text": [
      "Enter the card number : 4566 5677 4455 3334\n"
     ]
    },
    {
     "name": "stdout",
     "output_type": "stream",
     "text": [
      "**** **** **** 3334\n",
      "19\n"
     ]
    }
   ],
   "source": [
    "credit_card_no=input(\"Enter the card number :\")\n",
    "visible=credit_card_no[15:]\n",
    "star=(\"*\"*4+\" \")\n",
    "encoded=(star*3 +visible)\n",
    "print(encoded)\n",
    "print(len(encoded))"
   ]
  }
 ],
 "metadata": {
  "kernelspec": {
   "display_name": "Python 3 (ipykernel)",
   "language": "python",
   "name": "python3"
  },
  "language_info": {
   "codemirror_mode": {
    "name": "ipython",
    "version": 3
   },
   "file_extension": ".py",
   "mimetype": "text/x-python",
   "name": "python",
   "nbconvert_exporter": "python",
   "pygments_lexer": "ipython3",
   "version": "3.13.5"
  }
 },
 "nbformat": 4,
 "nbformat_minor": 5
}
